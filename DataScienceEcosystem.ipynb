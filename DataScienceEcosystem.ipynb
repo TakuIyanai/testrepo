{
 "cells": [
  {
   "cell_type": "markdown",
   "id": "4185e8e9-8c32-42e3-8a15-7f1ae9559bef",
   "metadata": {},
   "source": [
    "# Data Science Tools and Ecosystem"
   ]
  },
  {
   "cell_type": "markdown",
   "id": "3e873a4a-6568-4f41-9937-886577505f73",
   "metadata": {},
   "source": [
    "In this notebook, Data Science Tools and Ecosystem are summarised."
   ]
  },
  {
   "cell_type": "markdown",
   "id": "3ec73f8e-03bc-4542-9a2c-a1ff28d486da",
   "metadata": {},
   "source": [
    "**Objectives:**\n",
    "- Commonly used tools by Data Scientists\n",
    "- Open Source Development environments\n",
    "- Explore Simple Arithmetic\n",
    "- Commonly used Libraries used by Data Scientists"
   ]
  },
  {
   "cell_type": "markdown",
   "id": "c267f389-d472-4bd2-947d-c8df5d180b31",
   "metadata": {},
   "source": [
    "Some of the popular languages that Data Scientists use are:\n",
    "1. Python\n",
    "2. R\n",
    "3. Java\n",
    "4. C++\n",
    "5. JavaScript"
   ]
  },
  {
   "cell_type": "markdown",
   "id": "7aa61303-850e-4baf-a755-1561f4b124b0",
   "metadata": {},
   "source": [
    "Some of the commonly used Libraries used by Data Scientists include:\n",
    "1. Scikit-learn\n",
    "2. NumPy\n",
    "3. Matpotlab\n",
    "4. Plotly"
   ]
  },
  {
   "cell_type": "markdown",
   "id": "f060441b-58e4-4dd0-b1dc-13d31f2bf4db",
   "metadata": {},
   "source": [
    "|Data Science Tools|\n",
    "|------|\n",
    "|R Studio|\n",
    "|Jupyter Notebook|\n",
    "|Apache Spark|"
   ]
  },
  {
   "cell_type": "markdown",
   "id": "f1234a44-d817-402c-9bea-1dad2b2e78a1",
   "metadata": {},
   "source": [
    "### Below are a few examples of evaluating arithmetic expressions in Python"
   ]
  },
  {
   "cell_type": "code",
   "execution_count": 9,
   "id": "7ae4de13-5891-4f96-9ccb-f5d2239b2081",
   "metadata": {},
   "outputs": [
    {
     "data": {
      "text/plain": [
       "17"
      ]
     },
     "execution_count": 9,
     "metadata": {},
     "output_type": "execute_result"
    }
   ],
   "source": [
    "#This is a simple arithmetic expression to multiply the add integers\n",
    "(3*4)+5"
   ]
  },
  {
   "cell_type": "code",
   "execution_count": 29,
   "id": "e1c8eec2-8ea7-4b7b-9cd7-c411c9c0f4da",
   "metadata": {},
   "outputs": [
    {
     "data": {
      "text/plain": [
       "3.3333333333333335"
      ]
     },
     "execution_count": 29,
     "metadata": {},
     "output_type": "execute_result"
    }
   ],
   "source": [
    "#This will convert 200 minutes to hours by dividing by 60\n",
    "60 == \"hour\"\n",
    "\n",
    "200/60"
   ]
  },
  {
   "cell_type": "markdown",
   "id": "320c2a30-1b21-4c01-9294-77ad41fa865f",
   "metadata": {},
   "source": [
    "## Author\n",
    "Takudzwa Mabuyana"
   ]
  },
  {
   "cell_type": "code",
   "execution_count": null,
   "id": "0cd2dfef-1e92-4147-937e-4fe6c5460bc2",
   "metadata": {},
   "outputs": [],
   "source": []
  }
 ],
 "metadata": {
  "kernelspec": {
   "display_name": "Python [conda env:base] *",
   "language": "python",
   "name": "conda-base-py"
  },
  "language_info": {
   "codemirror_mode": {
    "name": "ipython",
    "version": 3
   },
   "file_extension": ".py",
   "mimetype": "text/x-python",
   "name": "python",
   "nbconvert_exporter": "python",
   "pygments_lexer": "ipython3",
   "version": "3.12.7"
  }
 },
 "nbformat": 4,
 "nbformat_minor": 5
}
